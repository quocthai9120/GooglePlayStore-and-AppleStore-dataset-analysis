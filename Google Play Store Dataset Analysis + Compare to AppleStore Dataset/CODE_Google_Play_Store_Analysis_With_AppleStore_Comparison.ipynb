{
 "cells": [
  {
   "cell_type": "markdown",
   "metadata": {},
   "source": [
    "<center><h1>[CODE] Google Play Store Analysis With AppleStore Comparison</h1></center>"
   ]
  },
  {
   "cell_type": "markdown",
   "metadata": {},
   "source": [
    "# Table of Contents:\n",
    "\n",
    "[Part 1: Data pre-processing](#Part-1:-Data-pre-processing:)\n",
    "\n",
    "- [Import libraries and declare necessarily functions](#PRE:-Import-necessarily-libraries-and-declare-necessarily-functions)\n",
    "\n",
    "- [Google Play Store Dataset](#Google-Play-Store-Dataset)\n",
    "\n",
    "- [Apple Store dataset](#Apple-Store-dataset)\n",
    "\n",
    "\n",
    "[Part 2: Answer Research Questions](#Part-2:-Answer-Research-Questions:)\n",
    "\n",
    "- [Research Question 1](#Question-1:)\n",
    "\n",
    "    + [Between \"Installs\" and another factor](#Between-\"Installs\"-and-another-factor:)\n",
    "    \n",
    "    + [Between other pair of factors](#Between-other-pair-of-factors:)\n",
    "- [Research Question 2](#Question-2:)\n",
    "\n",
    "    + [Relationship between Price and Installs](#Relationship-between-Price-and-Installs:)\n",
    "    \n",
    "    + [Relationship between Reviews and Installs](#Relationship-between-Reviews-and-Installs:)\n",
    "    \n",
    "    + [Relationship between Rating and Installs, between Rating and Reviews](#Relationship-between-Rating-and-Installs,-between-Rating-and-Reviews:)\n",
    "    \n",
    "- [Research Question 3](#Question-3:)\n",
    "\n",
    "- [Research Question 4](#Question-4:)\n",
    "\n",
    "\n",
    "[Testing](#Testing:)\n",
    "\n",
    "- [Data pre-processing](#Data-pre-processing-Testing:)\n",
    "\n",
    "- [Research Question 1](#Question-1-Testing:)\n",
    "\n",
    "- [Research Question 2](#Question-2-Testing:)\n",
    "\n",
    "- [Research Question 3](#Question-3-Testing:)\n",
    "\n",
    "- [Research Question 4](#Question-4-Testing:)"
   ]
  },
  {
   "cell_type": "markdown",
   "metadata": {},
   "source": [
    "# Part 1: Data pre-processing:"
   ]
  },
  {
   "cell_type": "markdown",
   "metadata": {},
   "source": [
    "## PRE: Import necessarily libraries and declare necessarily functions"
   ]
  },
  {
   "cell_type": "code",
   "execution_count": 1,
   "metadata": {},
   "outputs": [],
   "source": [
    "import numpy as np\n",
    "import pandas as pd\n",
    "import matplotlib.pyplot as plt\n",
    "from sklearn import linear_model\n",
    "import scipy\n",
    "from sklearn.utils import shuffle"
   ]
  },
  {
   "cell_type": "markdown",
   "metadata": {},
   "source": [
    "### Define a function to remove outliers"
   ]
  },
  {
   "cell_type": "code",
   "execution_count": 2,
   "metadata": {},
   "outputs": [],
   "source": [
    "def remove_outlier(data, column):\n",
    "    '''\n",
    "    Input: Gives a DataFrame and a String represents the name of the column \n",
    "           in the DataFrame.\n",
    "    Return: Returns the new DataFrame with outliers in the given column removed.\n",
    "    '''\n",
    "    q1 = data[column].quantile(0.25)\n",
    "    q3 = data[column].quantile(0.75)\n",
    "    \n",
    "    iqr = q3 - q1\n",
    "    \n",
    "    low_limit  = q1 - iqr * 1.5\n",
    "    high_limit = q3 + iqr * 1.5\n",
    "    \n",
    "    return data.loc[(data[column] >= low_limit)].loc[(data[column] <= high_limit)]"
   ]
  },
  {
   "cell_type": "markdown",
   "metadata": {},
   "source": [
    "### Test remove_outlier:"
   ]
  },
  {
   "cell_type": "code",
   "execution_count": 3,
   "metadata": {},
   "outputs": [],
   "source": [
    "def test_remove_outlier():\n",
    "    \"\"\"Test the remove_outlier function.\n",
    "    Throws assertion error if not pass the test!\n",
    "    \n",
    "    Return: \n",
    "        None\n",
    "    \"\"\"\n",
    "    temp_list = [20 for i in range(100)]\n",
    "    temp_list.extend([5, 1, 3, 100, 100])\n",
    "    data = {'col1': temp_list, 'col2': [i for i in range(105)]}\n",
    "    data_frame = pd.DataFrame(data)\n",
    "\n",
    "    temp = remove_outlier(data_frame, 'col1')\n",
    "    assert(len(temp) == 100)\n",
    "\n",
    "    for element in list(temp['col1'].values):\n",
    "        assert(element == 20)\n",
    "    print('remove_outlier test passes!')\n",
    "\n",
    "# Uncomment the line below to test remove_outlier\n",
    "# test_remove_outlier()"
   ]
  },
  {
   "cell_type": "markdown",
   "metadata": {},
   "source": [
    "### Define a function to get the confidence interval"
   ]
  },
  {
   "cell_type": "code",
   "execution_count": 4,
   "metadata": {},
   "outputs": [],
   "source": [
    "def get_confidence_interval(data, confidence = 0.95):\n",
    "    \"\"\"Gives a list and a kwarg confidence.\n",
    "    Returns the tuple of required confidence inverval.\n",
    "    \n",
    "    Parameters:\n",
    "        data: a list containing value\n",
    "        confidence: a float represents the confidence\n",
    "                    interval needs, default = 0.95\n",
    "    \n",
    "    Return:\n",
    "        a tuple: containing the lower limit of the\n",
    "        interval and the higher limit of the interval\n",
    "    \"\"\"\n",
    "    \n",
    "    return scipy.stats.norm.interval(\n",
    "        confidence, loc = np.mean(data), \n",
    "        scale = np.std(data))"
   ]
  },
  {
   "cell_type": "markdown",
   "metadata": {},
   "source": [
    "### Test get_confidence_interval"
   ]
  },
  {
   "cell_type": "code",
   "execution_count": 5,
   "metadata": {},
   "outputs": [],
   "source": [
    "def test_get_confidence_interval():\n",
    "    \"\"\"Test the get_confidence_interval\n",
    "    \"\"\"\n",
    "    lst2 = [1,2,3,3,3,4,4,4,5,5,5,5,4,4,4,6,7,8,6,7,8]\n",
    "    conf = get_confidence_interval(lst2, confidence = 0.95)\n",
    "    \n",
    "    lower_limit = conf[0]\n",
    "    higher_limit = conf[1]\n",
    "    \n",
    "    print(\"List:\", lst2)\n",
    "    print(\"Confidence interval:\", conf)\n",
    "    print('Total number:', len(lst2))\n",
    "    count = 0\n",
    "    for i in lst2:\n",
    "        if i >= lower_limit and i <= higher_limit:\n",
    "            count += 1\n",
    "    print('Total number in 95% confidence interval:', \n",
    "          count)\n",
    "    print(\"ratio\", count / len(lst2))\n",
    "    \n",
    "    plt.hist(lst2, bins = 7)\n",
    "    plt.axvline(lower_limit, color = 'red',\n",
    "                label = 'low limit')\n",
    "    plt.axvline(higher_limit, color = 'yellow',\n",
    "                label = 'high limit')\n",
    "    plt.show()\n",
    "\n",
    "# Uncomment the line below to test get_confidence_interval\n",
    "# test_get_confidence_interval()"
   ]
  },
  {
   "cell_type": "markdown",
   "metadata": {},
   "source": [
    "## Google Play Store Dataset\n",
    "\n",
    "Read 'googleplaystore.csv' dataset file and store as a DataFrame then preprocess the dataset by:\n",
    "- Remove rows that include NaN values.\n",
    "- Remove rows that contains \"Varies with device\" in 'Size' column.\n",
    "- Remove unecessary characters ('k', 'M') in the \"Size\" column.\n",
    "- Remove the \"$\" sign in the \"Price\" column.\n",
    "- Remove uneccessary characters (',' and '+') in the 'Installs' column.\n",
    "- Casts all columns to type 'float'.\n",
    "- Store 'Rating', 'Reviews', 'Sizes', 'Installs', 'Price' columns to pandas DataFrame as type float."
   ]
  },
  {
   "cell_type": "code",
   "execution_count": 6,
   "metadata": {},
   "outputs": [],
   "source": [
    "# Reads the Google Play Store dataset and store as DataFrame\n",
    "playstore_data = pd.read_csv(\"googleplaystore.csv\")\n",
    "\n",
    "# Removes rows include NaN values and rows includes \n",
    "# \"Varies with device\" in \"Size\" column\n",
    "playstore_data.dropna(inplace = True)\n",
    "playstore_data = playstore_data[playstore_data['Size'] != \n",
    "                                'Varies with device']\n",
    "\n",
    "# Removes unecessary characters ('k', 'M') in the \"Size\" column in \n",
    "# googleplaystore.csv and casts the type of that column to float\n",
    "playstore_size_column = playstore_data[playstore_data.columns[4]]\n",
    "playstore_size_column = playstore_size_column.str.replace(r\"[kM]\",'')\n",
    "playstore_data[['Size']] = playstore_size_column.astype(float)\n",
    "\n",
    "# Removes '$' sign in the \"Price\" column in googleplaystore.csv and \n",
    "# casts the type of that column to float\n",
    "playstore_price_column = playstore_data[playstore_data.columns[7]]\n",
    "playstore_price_column = playstore_price_column.str.replace(r\"[$]\",'')\n",
    "playstore_data[['Price']] = playstore_price_column.astype(float)\n",
    "\n",
    "# Removes uneccessary characters (',', '+') in the 'Installs' column in \n",
    "# googleplaystore.csv and casts the type of that column to float\n",
    "playstore_installs_column = \\\n",
    "    playstore_data[playstore_data.columns[5]].str.replace(r\"[,+]\",'')\n",
    "playstore_data[['Installs']] = playstore_installs_column.astype(float)\n",
    "\n",
    "# Casts 'Rating' and 'Reviews' column to type float\n",
    "playstore_data[['Rating']] = playstore_data[['Rating']].astype(float)\n",
    "playstore_data[['Reviews']] = playstore_data[['Reviews']].astype(float)\n",
    "\n",
    "# Store 'Rating', 'Reviews', 'Sizes', 'Installs', 'Price' columns in \n",
    "# googleplaystore.csv to pandas DataFrame as type float\n",
    "playstore_rating = playstore_data[['Rating']]\n",
    "playstore_reviews = playstore_data[['Reviews']]\n",
    "playstore_size = playstore_data[['Size']]\n",
    "playstore_installs = playstore_data[['Installs']]\n",
    "playstore_price = playstore_data[['Price']]"
   ]
  },
  {
   "cell_type": "markdown",
   "metadata": {},
   "source": [
    "### Test rows and NaN values GooglePlayStore\n",
    "- Show that after clean the googleplaystore.csv dataset, all rows have the same columns (13) and there are no 'NaN' values in the dataset."
   ]
  },
  {
   "cell_type": "code",
   "execution_count": 7,
   "metadata": {},
   "outputs": [],
   "source": [
    "def test_rows_and_nan_playstore():\n",
    "    \"\"\"Test rows and NaN values \n",
    "    in Google Play Store dataset.\n",
    "    Throws assertion error if fail.\n",
    "    \n",
    "    Return:\n",
    "        None\n",
    "    \"\"\"\n",
    "    total_columns = len(playstore_data.columns)\n",
    "    assert(total_columns == 13)\n",
    "\n",
    "    for row in playstore_data.values:\n",
    "        elements = list(row)\n",
    "        assert(len(elements) == total_columns)\n",
    "        for element in elements:\n",
    "            assert(str(element).lower() != 'nan')\n",
    "    print(\"All rows have the same columns (13). No 'NaN' found\")\n",
    "    \n",
    "# uncomment the line below to test rows and NaN values \n",
    "# in Google Play Store dataset\n",
    "\n",
    "# test_rows_and_nan_playstore()"
   ]
  },
  {
   "cell_type": "markdown",
   "metadata": {},
   "source": [
    "### Test numerical values GooglePlayStore\n",
    "- Show that after clean the googleplaystore.csv dataset, all values in each of the following columns (\"Size\", \"Price\", \"Installs\", \"Rating\", \"Reviews\") are in numerical type."
   ]
  },
  {
   "cell_type": "code",
   "execution_count": 8,
   "metadata": {},
   "outputs": [],
   "source": [
    "def test_numerical_playstore():\n",
    "    \"\"\"test numerical values in Google\n",
    "    Play Store dataset.\n",
    "    Throws assertion error if fail.\n",
    "    \n",
    "    Return:\n",
    "        None\n",
    "    \"\"\"\n",
    "    columns = [\"Size\", \"Price\", \"Installs\", \"Rating\", \"Reviews\"]\n",
    "\n",
    "    for column in columns:\n",
    "        for value in playstore_data[column].values:\n",
    "            if type(value) != np.float64:\n",
    "                print(value, type(value))\n",
    "    print(\"All values are numerical!\")\n",
    "\n",
    "# uncomment the line below to test numerical values \n",
    "# in Google Play Store dataset\n",
    "\n",
    "# test_numerical_playstore()"
   ]
  },
  {
   "cell_type": "markdown",
   "metadata": {},
   "source": [
    "## Apple Store dataset\n",
    "\n",
    "Read 'AppleStore.csv' dataset file and store as a DataFrame then preprocess the dataset by:\n",
    "- Remove rows that include NaN values.\n",
    "- Convert the size of applications in 'size_bytes' column to MB by dividing that size to $1024^{2}$.\n",
    "- Change the name of 'size_bytes' column to 'Size' and store that column to pandas DataFrame as type float."
   ]
  },
  {
   "cell_type": "code",
   "execution_count": 9,
   "metadata": {},
   "outputs": [],
   "source": [
    "# Reads the Apple Store dataset and store it as a DataFrame\n",
    "appstore_data = pd.read_csv(\"AppleStore.csv\")\n",
    "\n",
    "# Removes rows include NaN values\n",
    "appstore_data.dropna(inplace = True)\n",
    "\n",
    "# Converts the Size in Apple Store dataset to MB\n",
    "appstore_data[['size_bytes']] = \\\n",
    "    appstore_data[['size_bytes']].astype(float) / 1024 / 1024\n",
    "\n",
    "# Renames the \"size_bytes\" column to \"Size\" in Apple Store dataset to \n",
    "# match Google Play Store dataset\n",
    "appstore_data.columns = ['Size' if x == 'size_bytes' else x \n",
    "                         for x in appstore_data.columns]\n",
    "\n",
    "# Store the size (coverted to MB) column in Apple Store\n",
    "# dataset to pandas DataFrame as type float\n",
    "appstore_size = appstore_data[['Size']]"
   ]
  },
  {
   "cell_type": "markdown",
   "metadata": {},
   "source": [
    "### Test numerical values AppStore\n",
    "- Show that after clean the AppleStore.csv dataset, all values in each of the following \"Size\" column are in numerical type."
   ]
  },
  {
   "cell_type": "code",
   "execution_count": 10,
   "metadata": {},
   "outputs": [],
   "source": [
    "def test_numerical_appstore():\n",
    "    \"\"\"test numerical values in Apple\n",
    "    Store dataset's \"Size\" column.\n",
    "    Throws assertion error if fail.\n",
    "    \n",
    "    Return:\n",
    "        None\n",
    "    \"\"\"\n",
    "    for value in appstore_data[\"Size\"].values:\n",
    "        if type(value) != np.float64:\n",
    "            print(value, type(value))\n",
    "    print(\"All values are numerical!\")\n",
    "\n",
    "# uncomment the line below to test numerical values \n",
    "# in Apple Store dataset's \"Size\" column\n",
    "\n",
    "# test_numerical_appstore()"
   ]
  },
  {
   "cell_type": "markdown",
   "metadata": {},
   "source": [
    "# Part 2: Answer Research Questions:"
   ]
  },
  {
   "cell_type": "markdown",
   "metadata": {},
   "source": [
    "## Question 1:\n",
    "Is there a strong linear correlation between the price of an application and the number of installs? Is there a strong linear correlation between rating and number of install? Is there a strong linear correlation between reviews and number of installs?"
   ]
  },
  {
   "cell_type": "markdown",
   "metadata": {},
   "source": [
    "### Testing conitnuity:"
   ]
  },
  {
   "cell_type": "markdown",
   "metadata": {},
   "source": [
    "#### Test continuity of \"Price\":"
   ]
  },
  {
   "cell_type": "code",
   "execution_count": 11,
   "metadata": {},
   "outputs": [
    {
     "data": {
      "image/png": "[encoded data removed]",
      "text/plain": [
       "<Figure size 432x288 with 1 Axes>"
      ]
     },
     "metadata": {
      "needs_background": "light"
     },
     "output_type": "display_data"
    }
   ],
   "source": [
    "plt.hist(playstore_price.values.reshape(-1), \n",
    "         bins = 20)\n",
    "\n",
    "plt.xlabel(\"Price\")\n",
    "plt.ylabel(\"Count\")\n",
    "plt.title(\"Google Play Store Dataset Price distribution\")\n",
    "\n",
    "plt.show()"
   ]
  },
  {
   "cell_type": "markdown",
   "metadata": {},
   "source": [
    "Conclusion: \"Price\" is a continuous value type."
   ]
  },
  {
   "cell_type": "markdown",
   "metadata": {},
   "source": [
    "#### Test continuity of \"Reviews\":"
   ]
  },
  {
   "cell_type": "code",
   "execution_count": 12,
   "metadata": {},
   "outputs": [
    {
     "data": {
      "image/png": "[encoded data removed]",
      "text/plain": [
       "<Figure size 432x288 with 1 Axes>"
      ]
     },
     "metadata": {
      "needs_background": "light"
     },
     "output_type": "display_data"
    }
   ],
   "source": [
    "plt.hist(playstore_reviews.values.reshape(-1), bins = 20)\n",
    "\n",
    "plt.xlabel(\"Reviews\")\n",
    "plt.ylabel(\"Count\")\n",
    "plt.title(\"Google Play Store Dataset Reviews distribution\")\n",
    "\n",
    "plt.show()"
   ]
  },
  {
   "cell_type": "markdown",
   "metadata": {},
   "source": [
    "Conclusion: \"Reviews\" is a continuous value type."
   ]
  },
  {
   "cell_type": "markdown",
   "metadata": {},
   "source": [
    "#### Test continuity of \"Size\":"
   ]
  },
  {
   "cell_type": "code",
   "execution_count": 13,
   "metadata": {},
   "outputs": [
    {
     "data": {
      "image/png": "[encoded data removed]",
      "text/plain": [
       "<Figure size 432x288 with 1 Axes>"
      ]
     },
     "metadata": {
      "needs_background": "light"
     },
     "output_type": "display_data"
    }
   ],
   "source": [
    "plt.hist(playstore_size.values, bins = 50)\n",
    "\n",
    "plt.xlabel(\"Size\")\n",
    "plt.ylabel(\"Count\")\n",
    "plt.title(\"Google Play Store Dataset Size distribution\")\n",
    "\n",
    "plt.show()"
   ]
  },
  {
   "cell_type": "markdown",
   "metadata": {},
   "source": [
    "Conclusion: \"Size\" is a continuous value type."
   ]
  },
  {
   "cell_type": "markdown",
   "metadata": {},
   "source": [
    "#### Test continuity of \"Rating\":"
   ]
  },
  {
   "cell_type": "code",
   "execution_count": 14,
   "metadata": {
    "scrolled": true
   },
   "outputs": [
    {
     "data": {
      "image/png": "[encoded data removed]",
      "text/plain": [
       "<Figure size 432x288 with 1 Axes>"
      ]
     },
     "metadata": {
      "needs_background": "light"
     },
     "output_type": "display_data"
    }
   ],
   "source": [
    "plt.hist(playstore_rating.values.reshape(-1), bins = 50)\n",
    "\n",
    "plt.xlabel(\"Rating\")\n",
    "plt.ylabel(\"Count\")\n",
    "plt.title(\"Google Play Store Dataset Rating distribution\")\n",
    "plt.show()"
   ]
  },
  {
   "cell_type": "markdown",
   "metadata": {},
   "source": [
    "Conclusion: \"Rating\" is a categorical value type with normal distribution."
   ]
  },
  {
   "cell_type": "markdown",
   "metadata": {},
   "source": [
    "#### Test continuity of \"Installs\":"
   ]
  },
  {
   "cell_type": "code",
   "execution_count": 15,
   "metadata": {},
   "outputs": [
    {
     "data": {
      "image/png": "[encoded data removed]",
      "text/plain": [
       "<Figure size 432x288 with 1 Axes>"
      ]
     },
     "metadata": {
      "needs_background": "light"
     },
     "output_type": "display_data"
    }
   ],
   "source": [
    "plt.hist(playstore_installs.values.reshape(-1), bins = 50)\n",
    "\n",
    "plt.xlabel(\"Installs\")\n",
    "plt.ylabel(\"Count\")\n",
    "plt.title(\"Google Play Store Dataset Installs distribution\")\n",
    "\n",
    "plt.show()"
   ]
  },
  {
   "cell_type": "markdown",
   "metadata": {},
   "source": [
    "Conclusion: \"Installs\" is a categorical value type."
   ]
  },
  {
   "cell_type": "markdown",
   "metadata": {},
   "source": [
    "### Between \"Installs\" and another factor:\n",
    "Use the Spearman correlation coefficient to find the correlation between \"Installs\" and another factor in (\"Reviews\", \"Rating\", \"Size\", \"Price\")."
   ]
  },
  {
   "cell_type": "markdown",
   "metadata": {},
   "source": [
    "#### \"Reviews\" and \"Installs\":"
   ]
  },
  {
   "cell_type": "code",
   "execution_count": 16,
   "metadata": {},
   "outputs": [
    {
     "name": "stdout",
     "output_type": "stream",
     "text": [
      "'Reviews' and 'Installs': \n",
      "SpearmanrResult(correlation=0.9617752481191301, pvalue=0.0)\n"
     ]
    }
   ],
   "source": [
    "# Computes the \"Spearman correlation coefficient\" between \n",
    "# \"Reviews\" and \"Installs\" column in googleplaystore.csv\n",
    "playstore_reviews_installs = \\\n",
    "    scipy.stats.spearmanr(playstore_reviews.values.reshape(-1, ), \n",
    "                          playstore_installs.values.reshape(-1, ))\n",
    "\n",
    "# Prints the results\n",
    "print(\"'Reviews' and 'Installs': \\n\" + str(playstore_reviews_installs))"
   ]
  },
  {
   "cell_type": "markdown",
   "metadata": {},
   "source": [
    "#### \"Rating\" and \"Installs\":"
   ]
  },
  {
   "cell_type": "code",
   "execution_count": 17,
   "metadata": {},
   "outputs": [
    {
     "name": "stdout",
     "output_type": "stream",
     "text": [
      "'Rating' and 'Installs': \n",
      "SpearmanrResult(correlation=0.030545300526528554, pvalue=0.007263160102855046)\n"
     ]
    }
   ],
   "source": [
    "# Computes the \"Spearman correlation coefficient\" between \n",
    "# \"Rating\" and \"Installs\" column in googleplaystore.csv\n",
    "playstore_rating_installs = \\\n",
    "    scipy.stats.spearmanr(playstore_rating.values.reshape(-1, ), \n",
    "                          playstore_installs.values.reshape(-1, ))\n",
    "\n",
    "# Prints the results\n",
    "print(\"'Rating' and 'Installs': \\n\" + str(playstore_rating_installs))"
   ]
  },
  {
   "cell_type": "markdown",
   "metadata": {},
   "source": [
    "#### \"Size\" and \"Installs\":"
   ]
  },
  {
   "cell_type": "code",
   "execution_count": 18,
   "metadata": {},
   "outputs": [
    {
     "name": "stdout",
     "output_type": "stream",
     "text": [
      "'Size' and 'Installs': \n",
      "SpearmanrResult(correlation=0.29760552372159615, pvalue=9.942549611630796e-158)\n"
     ]
    }
   ],
   "source": [
    "# Computes the \"Spearman correlation coefficient\" \n",
    "# between \"Size\" and \"Installs\" column in googleplaystore.csv\n",
    "playstore_size_installs = \\\n",
    "    scipy.stats.spearmanr(playstore_size.values.reshape(-1, ), \n",
    "                          playstore_installs.values.reshape(-1, ))\n",
    "\n",
    "# Prints the results\n",
    "print(\"'Size' and 'Installs': \\n\" + str(playstore_size_installs))"
   ]
  },
  {
   "cell_type": "markdown",
   "metadata": {},
   "source": [
    "#### \"Price\" and \"Installs\":"
   ]
  },
  {
   "cell_type": "code",
   "execution_count": 19,
   "metadata": {},
   "outputs": [
    {
     "name": "stdout",
     "output_type": "stream",
     "text": [
      "'Price' and 'Installs': \n",
      "SpearmanrResult(correlation=-0.2639461608266928, pvalue=2.9069171439634675e-123)\n"
     ]
    }
   ],
   "source": [
    "# Computes the \"Spearman correlation coefficient\"\n",
    "# between \"Price\" and \"Installs\" column in googleplaystore.csv\n",
    "playstore_price_installs = \\\n",
    "    scipy.stats.spearmanr(playstore_price.values.reshape(-1, ), \n",
    "                          playstore_installs.values.reshape(-1, ))\n",
    "\n",
    "# Prints the results\n",
    "print(\"'Price' and 'Installs': \\n\" + str(playstore_price_installs))"
   ]
  },
  {
   "cell_type": "markdown",
   "metadata": {},
   "source": [
    "#### Draws graphs to show the result above:"
   ]
  },
  {
   "cell_type": "code",
   "execution_count": 20,
   "metadata": {},
   "outputs": [
    {
     "data": {
      "image/png": "[encoded data removed]",
      "text/plain": [
       "<Figure size 1080x864 with 4 Axes>"
      ]
     },
     "metadata": {
      "needs_background": "light"
     },
     "output_type": "display_data"
    }
   ],
   "source": [
    "# Setups 4 graphs\n",
    "fig, axs = plt.subplots(2, 2, sharex = False, sharey=False)\n",
    "fig.set_figwidth(15)\n",
    "fig.set_figheight(12)\n",
    "\n",
    "##############################################################################\n",
    "# Installs - Reviews\n",
    "\n",
    "# Fits the regression line between Reviews and Installs\n",
    "model = linear_model.LinearRegression()\n",
    "model.fit(playstore_reviews, playstore_installs)\n",
    "\n",
    "# Plots the graph with the regression line\n",
    "playstore_installs_predict = model.predict(playstore_reviews)\n",
    "axs[0][0].scatter(playstore_reviews, playstore_installs, \n",
    "                  color = 'black', label = 'Real data')\n",
    "axs[0][0].plot(playstore_reviews, playstore_installs_predict, \n",
    "               color = 'red', label = 'Predicted Regression Line')\n",
    "\n",
    "# Labels the graph\n",
    "axs[0][0].legend(loc=1)\n",
    "axs[0][0].set_xlabel('Reviews')\n",
    "axs[0][0].set_ylabel('Installs')\n",
    "axs[0][0].set_title('Google Play Store - Reviews and Installs Correlation')\n",
    "\n",
    "##############################################################################\n",
    "# Installs - Rating\n",
    "\n",
    "# Fits the regression line between Reviews and Installs\n",
    "model = linear_model.LinearRegression()\n",
    "model.fit(playstore_rating, playstore_installs)\n",
    "\n",
    "# Plots the graph with the regression line\n",
    "playstore_installs_predict = model.predict(playstore_rating)\n",
    "axs[0][1].scatter(playstore_rating, playstore_installs, \n",
    "                  color = 'black', label = 'Real data')\n",
    "axs[0][1].plot(playstore_rating, playstore_installs_predict, \n",
    "               color = 'red', label = 'Predicted Regression Line')\n",
    "\n",
    "# Labels the graph\n",
    "axs[0][1].legend(loc=1)\n",
    "axs[0][1].set_xlabel('Rating')\n",
    "axs[0][1].set_ylabel('Installs')\n",
    "axs[0][1].set_title('Google Play Store - Rating and Installs Correlation')\n",
    "\n",
    "##############################################################################\n",
    "# Installs - Size\n",
    "\n",
    "# Fits the regression line between Size and Installs\n",
    "model = linear_model.LinearRegression()\n",
    "model.fit(playstore_size, playstore_installs)\n",
    "\n",
    "# Plots the graph with the regression line\n",
    "playstore_installs_predict = model.predict(playstore_size)\n",
    "axs[1][0].scatter(playstore_size, playstore_installs, \n",
    "                  color = 'black', label = 'Real data')\n",
    "axs[1][0].plot(playstore_size, playstore_installs_predict, \n",
    "               color = 'red', label = 'Predicted Regression Line')\n",
    "\n",
    "# Labels the graph\n",
    "axs[1][0].legend(loc=1)\n",
    "axs[1][0].set_xlabel('Size')\n",
    "axs[1][0].set_ylabel('Installs')\n",
    "axs[1][0].set_title('Google Play Store - Size and Installs Correlation')\n",
    "\n",
    "##############################################################################\n",
    "# Installs - Price\n",
    "\n",
    "# Fits the regression line between Price and Installs\n",
    "model = linear_model.LinearRegression()\n",
    "model.fit(playstore_price, playstore_installs)\n",
    "\n",
    "# Plots the graph with the regression line\n",
    "playstore_installs_predict = model.predict(playstore_price)\n",
    "axs[1][1].scatter(playstore_price, playstore_installs, \n",
    "                  color = 'black', label = 'Real data')\n",
    "axs[1][1].plot(playstore_price, playstore_installs_predict, \n",
    "               color = 'red', label = 'Predicted Regression Line')\n",
    "\n",
    "# Labels and shows the graph\n",
    "axs[1][1].legend(loc=1)\n",
    "axs[1][1].set_xlabel('Price')\n",
    "axs[1][1].set_ylabel('Installs')\n",
    "axs[1][1].set_title('Google Play Store - Price and Installs Correlation')\n",
    "##############################################################################\n",
    "\n",
    "# Shows the graphs\n",
    "plt.show()"
   ]
  },
  {
   "cell_type": "markdown",
   "metadata": {},
   "source": [
    "#### Result:\n",
    "- \"Reviews\" and \"Installs\": Even though the Spearman Correlation Coefficient gives a high result (about 0.96 with p_value near 0.0), because the graph of \"Reviews\" and \"Installs\" does not clearly show that relationship and the Spearman Correlation Coefficient is just a rank correlation, we could not give any conclusion about the correlation of \"Reviews\" and \"Installs\" at this time rather than they have a postive correlation.\n",
    "            \n",
    "- \"Rating\" and \"Installs\": The Spearman Correlation Coefficient gives a low result (about 0.03 with p_value near 0.007) and the graph also shows they do not have strong correlation but they could have positive relationship to other.\n",
    "        \n",
    "- \"Size\" and \"Installs\": The Spearman Correlation Coefficient gives a low result (about 0.2976 with p_value near 0.0) and the graph also shows they do not have strong correlation but they could have positive relationship to other.\n",
    "        \n",
    "- \"Price\" and \"Installs\": The Spearman Correlation Coefficient gives a low result (about -0.2639 with p_value near 0.0) and the graph also shows they do not have strong correlation but they could have negative relationship to other."
   ]
  },
  {
   "cell_type": "markdown",
   "metadata": {},
   "source": [
    "### Between other pair of factors:\n",
    "Use the Pearson correlation coefficient to find the correlation between the pairs following:"
   ]
  },
  {
   "cell_type": "markdown",
   "metadata": {},
   "source": [
    "#### \"Price\" and \"Reviews\":"
   ]
  },
  {
   "cell_type": "code",
   "execution_count": 21,
   "metadata": {},
   "outputs": [
    {
     "name": "stdout",
     "output_type": "stream",
     "text": [
      "Price and Reviews Pearson correlation coefficient: -0.01018372992773056\n",
      "p value:  0.3708776268101188\n"
     ]
    }
   ],
   "source": [
    "# Computes the Pearson correlation Coefficient between Price and Reviews:\n",
    "pearson_value = \\\n",
    "    scipy.stats.pearsonr(playstore_price.values.reshape(-1, ), \n",
    "                         playstore_reviews.values.reshape(-1, ))\n",
    "\n",
    "# Prints the results:\n",
    "print(\"Price and Reviews Pearson correlation coefficient: \" \n",
    "      + str(pearson_value)[1:].split(\",\")[0][:-1])\n",
    "print(\"p value: \" + str(pearson_value)[1:].split(\",\")[1][:-1])"
   ]
  },
  {
   "cell_type": "markdown",
   "metadata": {},
   "source": [
    "#### \"Price\" and \"Rating\":"
   ]
  },
  {
   "cell_type": "code",
   "execution_count": 22,
   "metadata": {},
   "outputs": [
    {
     "name": "stdout",
     "output_type": "stream",
     "text": [
      "Price and Rating Pearson correlation coefficient: -0.021320384654006957\n",
      "p value:  0.060991388927049264\n"
     ]
    }
   ],
   "source": [
    "# Computes the Pearson correlation Coefficient between Price and Rating:\n",
    "pearson_value = \\\n",
    "    scipy.stats.pearsonr(playstore_price.values.reshape(-1, ), \n",
    "                         playstore_rating.values.reshape(-1, ))\n",
    "\n",
    "# Prints the results:\n",
    "print(\"Price and Rating Pearson correlation coefficient: \" \n",
    "      + str(pearson_value)[1:].split(\",\")[0])\n",
    "print(\"p value: \" + str(pearson_value)[1:].split(\",\")[1][:-1])"
   ]
  },
  {
   "cell_type": "markdown",
   "metadata": {},
   "source": [
    "#### \"Price\" and \"Size\":"
   ]
  },
  {
   "cell_type": "code",
   "execution_count": 23,
   "metadata": {},
   "outputs": [
    {
     "name": "stdout",
     "output_type": "stream",
     "text": [
      "Price and Reviews Pearson correlation coefficient: 0.018479614575164942\n",
      "p value:  0.1044024009424755\n"
     ]
    }
   ],
   "source": [
    "# Computes the Pearson correlation Coefficient between Price and Size:\n",
    "pearson_value = \\\n",
    "    scipy.stats.pearsonr(playstore_price.values.reshape(-1, ), \n",
    "                         playstore_size.values.reshape(-1, ))\n",
    "\n",
    "# Prints the results:\n",
    "print(\"Price and Reviews Pearson correlation coefficient: \" \n",
    "      + str(pearson_value)[1:].split(\",\")[0])\n",
    "print(\"p value: \" + str(pearson_value)[1:].split(\",\")[1][:-1])"
   ]
  },
  {
   "cell_type": "markdown",
   "metadata": {},
   "source": [
    "#### \"Rating\" and \"Reviews\":"
   ]
  },
  {
   "cell_type": "code",
   "execution_count": 24,
   "metadata": {},
   "outputs": [
    {
     "name": "stdout",
     "output_type": "stream",
     "text": [
      "Rating and Reviews Pearson correlation coefficient: 0.07981942133901998\n",
      "p value:  2.1459886382202993e-12\n"
     ]
    }
   ],
   "source": [
    "# Computes the Pearson correlation Coefficient between Rating and Reviews:\n",
    "pearson_value = \\\n",
    "    scipy.stats.pearsonr(playstore_rating.values.reshape(-1, ), \n",
    "                         playstore_reviews.values.reshape(-1, ))\n",
    "\n",
    "# Prints the results:\n",
    "print(\"Rating and Reviews Pearson correlation coefficient: \" \n",
    "      + str(pearson_value)[1:].split(\",\")[0])\n",
    "print(\"p value: \" + str(pearson_value)[1:].split(\",\")[1][:-1])"
   ]
  },
  {
   "cell_type": "markdown",
   "metadata": {},
   "source": [
    "#### \"Rating\" and \"Size\":"
   ]
  },
  {
   "cell_type": "code",
   "execution_count": 25,
   "metadata": {},
   "outputs": [
    {
     "name": "stdout",
     "output_type": "stream",
     "text": [
      "Rating and Size Pearson correlation coefficient: -0.018902881410443415\n",
      "p value:  0.09669816696223194\n"
     ]
    }
   ],
   "source": [
    "# Computes the Pearson correlation Coefficient between Rating and Size:\n",
    "pearson_value = \\\n",
    "    scipy.stats.pearsonr(playstore_rating.values.reshape(-1, ), \n",
    "                         playstore_size.values.reshape(-1, ))\n",
    "\n",
    "# Prints the results:\n",
    "print(\"Rating and Size Pearson correlation coefficient: \" \n",
    "      + str(pearson_value)[1:].split(\",\")[0])\n",
    "print(\"p value: \" + str(pearson_value)[1:].split(\",\")[1][:-1]);"
   ]
  },
  {
   "cell_type": "markdown",
   "metadata": {},
   "source": [
    "#### \"Reviews\" and \"Size\":"
   ]
  },
  {
   "cell_type": "code",
   "execution_count": 26,
   "metadata": {},
   "outputs": [
    {
     "name": "stdout",
     "output_type": "stream",
     "text": [
      "Reviews and Size Pearson correlation coefficient: 0.036540250274611406\n",
      "p value:  0.001319374549948722\n"
     ]
    }
   ],
   "source": [
    "# Computes the Pearson correlation Coefficient between Reviews and Size:\n",
    "pearson_value = \\\n",
    "    scipy.stats.pearsonr(playstore_reviews.values.reshape(-1, ), \n",
    "                         playstore_size.values.reshape(-1, ))\n",
    "\n",
    "# Prints the results:\n",
    "print(\"Reviews and Size Pearson correlation coefficient: \" \n",
    "      + str(pearson_value)[1:].split(\",\")[0])\n",
    "print(\"p value: \" + str(pearson_value)[1:].split(\",\")[1][:-1]);"
   ]
  },
  {
   "cell_type": "markdown",
   "metadata": {},
   "source": [
    "#### Plots the graphs to show the correlations above:"
   ]
  },
  {
   "cell_type": "code",
   "execution_count": 27,
   "metadata": {},
   "outputs": [
    {
     "data": {
      "image/png": "[encoded data removed]",
      "text/plain": [
       "<Figure size 1440x720 with 6 Axes>"
      ]
     },
     "metadata": {
      "needs_background": "light"
     },
     "output_type": "display_data"
    }
   ],
   "source": [
    "# Setups 6 graphs\n",
    "fig, axs = plt.subplots(2, 3, sharex = False, sharey=False)\n",
    "fig.set_figwidth(20)\n",
    "fig.set_figheight(10)\n",
    "\n",
    "##############################################################################\n",
    "# Price - Reviews\n",
    "\n",
    "# Fits the regression line between Price and Reviews\n",
    "model = linear_model.LinearRegression()\n",
    "model.fit(playstore_price, playstore_reviews)\n",
    "predict = model.predict(playstore_price)\n",
    "\n",
    "# Draws and labels Price - Reviews graph with the regression line\n",
    "axs[0][0].scatter(playstore_price.values.reshape(-1, ), \n",
    "                  playstore_reviews.values.reshape(-1, ),\n",
    "                  label = 'Real data')\n",
    "axs[0][0].plot(playstore_price, predict, color = 'red',\n",
    "               label = 'Predicted Regression line')\n",
    "axs[0][0].legend(loc=1)\n",
    "axs[0][0].set_xlabel('Price')\n",
    "axs[0][0].set_ylabel('Reviews')\n",
    "axs[0][0].set_title('Price - Reviews Correlation')\n",
    "\n",
    "##############################################################################\n",
    "# Price - Rating\n",
    "\n",
    "# Fits the regression line between Price and Rating\n",
    "model = linear_model.LinearRegression()\n",
    "model.fit(playstore_price, playstore_rating)\n",
    "predict = model.predict(playstore_price)\n",
    "\n",
    "# Draws and labels Price - Rating graph\n",
    "axs[0][1].scatter(playstore_price.values.reshape(-1, ), \n",
    "                  playstore_rating.values.reshape(-1, ),\n",
    "                  label = 'Real data')\n",
    "axs[0][1].plot(playstore_price, predict, color = 'red',\n",
    "               label = 'Predicted Regression line')\n",
    "axs[0][1].legend(loc=1)\n",
    "axs[0][1].set_xlabel('Price')\n",
    "axs[0][1].set_ylabel('Rating')\n",
    "axs[0][1].set_title('Price - Rating Correlation')\n",
    "\n",
    "##############################################################################\n",
    "# Price - Size\n",
    "\n",
    "# Fits the regression line between Price and Size\n",
    "model = linear_model.LinearRegression()\n",
    "model.fit(playstore_price, playstore_size)\n",
    "predict = model.predict(playstore_price)\n",
    "\n",
    "# Draws and labels Price - Size graph\n",
    "axs[0][2].scatter(playstore_price.values.reshape(-1, ), \n",
    "                  playstore_size.values.reshape(-1, ),\n",
    "                  label = 'Real data')\n",
    "axs[0][2].plot(playstore_price, predict, color = 'red', \n",
    "               label = 'Predicted Regression line')\n",
    "axs[0][2].legend(loc=1)\n",
    "axs[0][2].set_xlabel('Price')\n",
    "axs[0][2].set_ylabel('Size')\n",
    "axs[0][2].set_title('Price - Size Correlation')\n",
    "\n",
    "##############################################################################\n",
    "# Rating - Reviews\n",
    "\n",
    "# Fits the regression line between Rating and Reviews\n",
    "model = linear_model.LinearRegression()\n",
    "model.fit(playstore_rating, playstore_reviews)\n",
    "predict = model.predict(playstore_rating)\n",
    "\n",
    "# Draws and labels Rating - Reviews graph\n",
    "axs[1][0].scatter(playstore_rating.values.reshape(-1, ), \n",
    "                  playstore_reviews.values.reshape(-1, ),\n",
    "                  label = 'Real data')\n",
    "axs[1][0].plot(playstore_rating, predict, color = 'red', \n",
    "               label = 'Predicted Regression line')\n",
    "axs[1][0].legend(loc=1)\n",
    "axs[1][0].set_xlabel('Rating')\n",
    "axs[1][0].set_ylabel('Reviews')\n",
    "axs[1][0].set_title('Rating - Reviews Correlation')\n",
    "\n",
    "##############################################################################\n",
    "# Rating - Size\n",
    "\n",
    "# Fits the regression line between Rating and Size\n",
    "model = linear_model.LinearRegression()\n",
    "model.fit(playstore_rating, playstore_size)\n",
    "predict = model.predict(playstore_rating)\n",
    "\n",
    "# Draws and labels Rating - Size graph\n",
    "axs[1][1].scatter(playstore_rating.values.reshape(-1, ), \n",
    "                  playstore_size.values.reshape(-1, ),\n",
    "                  label = 'Real data')\n",
    "axs[1][1].plot(playstore_rating, predict, color = 'red', \n",
    "               label = 'Predicted Regression line')\n",
    "axs[1][1].legend(loc=1)\n",
    "axs[1][1].set_xlabel('Rating')\n",
    "axs[1][1].set_ylabel('Size')\n",
    "axs[1][1].set_title('Rating - Size Correlation')\n",
    "\n",
    "##############################################################################\n",
    "# Reviews - Size\n",
    "\n",
    "# Fits the regression line between Reviews and Size\n",
    "model = linear_model.LinearRegression()\n",
    "model.fit(playstore_reviews, playstore_size)\n",
    "predict = model.predict(playstore_reviews)\n",
    "\n",
    "# Draws and labels Reviews - Size graph\n",
    "axs[1][2].scatter(playstore_reviews.values.reshape(-1, ), \n",
    "                  playstore_size.values.reshape(-1, ),\n",
    "                  label = 'Real data')\n",
    "axs[1][2].plot(playstore_reviews, predict, color = 'red', \n",
    "               label = 'Predicted Regression line')\n",
    "axs[1][2].legend(loc=1)\n",
    "axs[1][2].set_xlabel('Reviews')\n",
    "axs[1][2].set_ylabel('Size')\n",
    "axs[1][2].set_title('Reviews - Sizes Correlation')\n",
    "\n",
    "# Shows the graphs\n",
    "plt.show()"
   ]
  },
  {
   "cell_type": "markdown",
   "metadata": {},
   "source": [
    "#### Result:\n",
    "- \"Price\" and \"Reviews\": Even though between 'Price' and 'Reviews' there is a result of Pearson's correlation coefficient is about -0.01, the p-value of that result is about $0.37$. Therefore, we cannot give a conclusion for this by the result above.\n",
    "            \n",
    "- \"Price\" and \"Rating\": Between 'Price' and 'Rating' there is a result of Pearson's correlation coefficient is about -0.02 with p-value near $0.06$ (slightly over 0.05), which shows that they do not have strong correlation. However, based on the result and the graph, we can recognize that 'Price' and 'Rating' may have a negative relationship.\n",
    "            \n",
    "- \"Price\" and \"Size\": Even though between 'Price' and 'Size' there is a result of Pearson's correlation coefficient is about 0.01, the p-value of that result is about 0.1, which is higher than 0.05. Therefore, we cannot give a conclusion for this by the result above.\n",
    "            \n",
    "- \"Rating\" and \"Reviews\": The Pearson Correlation Coefficient gives a low result (about 0.08 with p_value near $2.14^{-12}$) and the graph also shows they do not have strong correlation but they could have positive relationship to other.\n",
    "            \n",
    "- \"Rating\" and \"Size\": Even though between 'Rating' and 'Size' there is a result of Pearson's correlation coefficient is about -0.02, the p-value of that result is about 0.09, which is higher than 0.05. Therefore, we cannot give a conclusion for this by the result above.\n",
    "            \n",
    "- \"Reviews\" and \"Size\": The Pearson Correlation Coefficient gives a low result (about 0.04 with p_value near 0.001) and the graph also shows they do not have strong correlation but they could have positive relationship to other."
   ]
  },
  {
   "cell_type": "markdown",
   "metadata": {},
   "source": [
    "## Question 2:\n",
    "If there is no strong correlation between these factors, are there any better relationships between these factors?"
   ]
  },
  {
   "cell_type": "markdown",
   "metadata": {},
   "source": [
    "### Relationship between Price and Installs:"
   ]
  },
  {
   "cell_type": "markdown",
   "metadata": {},
   "source": [
    "- Get the log of \"Installs\""
   ]
  },
  {
   "cell_type": "code",
   "execution_count": 28,
   "metadata": {},
   "outputs": [],
   "source": [
    "# Computes and stores log of \"Installs\"\n",
    "playstore_installs_log = np.log(playstore_installs)"
   ]
  },
  {
   "cell_type": "markdown",
   "metadata": {},
   "source": [
    "- Compute the Pearson correlation coefficient between \"Price\" and log(\"Installs\")"
   ]
  },
  {
   "cell_type": "code",
   "execution_count": 29,
   "metadata": {},
   "outputs": [
    {
     "name": "stdout",
     "output_type": "stream",
     "text": [
      "Price and log(Installs) Pearson correlation \n",
      "coefficient: -0.058870809438751226\n",
      "p value:  2.2517427941989838e-07\n"
     ]
    }
   ],
   "source": [
    "# Computes the Pearson correlation Coefficient between Price and log(Installs):\n",
    "pearson_result = scipy.stats.pearsonr(playstore_price.values.reshape(-1, ), \n",
    "    playstore_installs_log.values.reshape(-1, ))\n",
    "\n",
    "# Prints the results:\n",
    "print(\"Price and log(Installs) Pearson correlation \"\n",
    "      + \"\\ncoefficient: \" + str(pearson_result)[1:].split(\",\")[0])\n",
    "print(\"p value: \" + str(pearson_result)[1:].split(\",\")[1][:-1])"
   ]
  },
  {
   "cell_type": "markdown",
   "metadata": {},
   "source": [
    "#### Draws the graph to show the relationship between Price and Installs"
   ]
  },
  {
   "cell_type": "code",
   "execution_count": 30,
   "metadata": {},
   "outputs": [
    {
     "data": {
      "image/png": "[encoded data removed]",
      "text/plain": [
       "<Figure size 432x288 with 1 Axes>"
      ]
     },
     "metadata": {
      "needs_background": "light"
     },
     "output_type": "display_data"
    }
   ],
   "source": [
    "# Fits the regression line between Price and log(Installs)\n",
    "model = linear_model.LinearRegression()\n",
    "model.fit(playstore_price, playstore_installs_log)\n",
    "\n",
    "# Plots the graph with the regression line\n",
    "playstore_installs_log_predict = model.predict(playstore_price)\n",
    "plt.scatter(playstore_price, playstore_installs_log, \n",
    "            color = 'black', label = 'Real data')\n",
    "plt.plot(playstore_price, playstore_installs_log_predict, \n",
    "         color = 'red', label = 'Predicted Regression line')\n",
    "\n",
    "# Labels and shows the graph\n",
    "plt.legend()\n",
    "plt.xlabel('Price')\n",
    "plt.ylabel('log(Installs)')\n",
    "plt.title('Google Play Store - Price and log(Installs) Correlation')\n",
    "plt.show()"
   ]
  },
  {
   "cell_type": "markdown",
   "metadata": {},
   "source": [
    "#### Result:\n",
    "We are currently not able to give a specific conclusion about the relationship bewteen these 2 factors rather than recognizing that they have a slightly negative relationship."
   ]
  },
  {
   "cell_type": "markdown",
   "metadata": {},
   "source": [
    "### Relationship between Reviews and Installs:"
   ]
  },
  {
   "cell_type": "markdown",
   "metadata": {},
   "source": [
    "- Computes and stores the log of Reviews"
   ]
  },
  {
   "cell_type": "code",
   "execution_count": 31,
   "metadata": {},
   "outputs": [],
   "source": [
    "# Computes and stores the log of Reviews\n",
    "playstore_reviews_log = np.log(playstore_reviews)"
   ]
  },
  {
   "cell_type": "markdown",
   "metadata": {},
   "source": [
    "- Computes the Pearson correlation Coefficient between log(Reviews) and log(Installs):"
   ]
  },
  {
   "cell_type": "code",
   "execution_count": 32,
   "metadata": {},
   "outputs": [
    {
     "name": "stdout",
     "output_type": "stream",
     "text": [
      "log(Reviews) and log(Installs) Pearson \n",
      "correlation coefficient: 0.9544923203249438\n",
      "p value:  0.0\n"
     ]
    }
   ],
   "source": [
    "# Computes the Pearson correlation Coefficient between \n",
    "# log(Reviews) and log(Installs):\n",
    "pearson_result = scipy.stats.pearsonr(\n",
    "    playstore_reviews_log.values.reshape(-1, ), \n",
    "    playstore_installs_log.values.reshape(-1, ))\n",
    "\n",
    "# Prints the results:\n",
    "print(\"log(Reviews) and log(Installs) Pearson \"\n",
    "      + \"\\ncorrelation coefficient: \" \n",
    "      + str(pearson_result)[1:].split(\",\")[0])\n",
    "print(\"p value: \" + str(pearson_result)[1:].split(\",\")[1][:-1])"
   ]
  },
  {
   "cell_type": "markdown",
   "metadata": {},
   "source": [
    "#### Draws the graph to show the relationship between Reviews and Installs"
   ]
  },
  {
   "cell_type": "code",
   "execution_count": 33,
   "metadata": {},
   "outputs": [
    {
     "data": {
      "image/png": "[encoded data removed]",
      "text/plain": [
       "<Figure size 432x288 with 1 Axes>"
      ]
     },
     "metadata": {
      "needs_background": "light"
     },
     "output_type": "display_data"
    }
   ],
   "source": [
    "# Fits the regression line between log(Reviews) and log(Installs)\n",
    "model = linear_model.LinearRegression()\n",
    "model.fit(playstore_reviews_log, playstore_installs_log)\n",
    "\n",
    "# Plots the graph with the regression line\n",
    "playstore_installs_log_predict = model.predict(playstore_reviews_log)\n",
    "plt.scatter(playstore_reviews_log, playstore_installs_log, color = 'black')\n",
    "plt.plot(playstore_reviews_log, playstore_installs_log_predict, \n",
    "         color = 'red', label = 'Predicted Regression line')\n",
    "\n",
    "plt.scatter(playstore_reviews_log.values.reshape(-1, ), \n",
    "            playstore_installs_log.values.reshape(-1, ), label = 'Real data')\n",
    "\n",
    "# Labels and shows the graph\n",
    "plt.legend()\n",
    "plt.xlabel('log(Reviews)')\n",
    "plt.ylabel('log(Installs)')\n",
    "plt.title('Google Play Store - log(Reviews) and log(Installs) Correlation')\n",
    "plt.show()"
   ]
  },
  {
   "cell_type": "markdown",
   "metadata": {},
   "source": [
    "#### Result:\n",
    "\"Reviews\" and \"Installs\" have a relationship that log(Reviews) and log(Installs) are correlated."
   ]
  },
  {
   "cell_type": "markdown",
   "metadata": {},
   "source": [
    "### Relationship between Rating and Installs, between Rating and Reviews:"
   ]
  },
  {
   "cell_type": "markdown",
   "metadata": {},
   "source": [
    "- Group 'Rating' rows in the dataset with the mean of other numerical rows by the mean of the value in each column corresponding to the value in \"Rating\" column."
   ]
  },
  {
   "cell_type": "code",
   "execution_count": 34,
   "metadata": {},
   "outputs": [],
   "source": [
    "# Groups the numerical columns in the googleplaystore.csv \n",
    "# dataset (Reviews, Size, Installs, Price) by the mean of each\n",
    "# value in each column that corresponding to the value in \"Rating\" column\n",
    "playstore_group_mean_by_rating = playstore_data.groupby('Rating').mean()"
   ]
  },
  {
   "cell_type": "markdown",
   "metadata": {},
   "source": [
    "- Gets the rows that need to compare (Reviews, Installs), computes log of these colunmns' values and gets the values of the \"Rating\" after grouped."
   ]
  },
  {
   "cell_type": "code",
   "execution_count": 35,
   "metadata": {},
   "outputs": [],
   "source": [
    "# gets the values of log of mean of \"Installs\" \n",
    "# grouped by \"Rating\"\n",
    "playstore_group_mean_by_rating_installs_log = \\\n",
    "    np.log(playstore_group_mean_by_rating['Installs'].values)\n",
    "\n",
    "# gets the values of log of mean of \"Reviews\" grouped by \"Rating\"\n",
    "playstore_group_mean_by_rating_reviews_log = \\\n",
    "    np.log(playstore_group_mean_by_rating['Reviews'].values)\n",
    "\n",
    "# gets the values of the grouped \"Rating\" values\n",
    "playstore_group_rating = playstore_group_mean_by_rating.index.values"
   ]
  },
  {
   "cell_type": "markdown",
   "metadata": {},
   "source": [
    "- Computes the Pearson correlation coefficient between grouped \"Rating\" and log(mean \"Installs\" grouped by \"Rating\"):"
   ]
  },
  {
   "cell_type": "code",
   "execution_count": 36,
   "metadata": {},
   "outputs": [
    {
     "name": "stdout",
     "output_type": "stream",
     "text": [
      "log(mean 'Installs' grouped by 'Rating') and 'Rating' \n",
      "Pearson correlation coefficient: 0.7019397496030098\n",
      "p value:  6.380773895356904e-07\n"
     ]
    }
   ],
   "source": [
    "# Computes the Pearson correlation Coefficient between \n",
    "# log(mean Installs grouped by Rating) and (grouped \"Rating\"):\n",
    "pearson_result = scipy.stats.pearsonr(playstore_group_rating.reshape(-1, ), \n",
    "    playstore_group_mean_by_rating_installs_log.reshape(-1, ))\n",
    "\n",
    "# Prints the results:\n",
    "print(\"log(mean 'Installs' grouped by 'Rating') and \\\n",
    "'Rating' \\nPearson correlation coefficient: \" \n",
    "      + str(pearson_result)[1:].split(\",\")[0])\n",
    "print(\"p value: \" + str(pearson_result)[1:].split(\",\")[1][:-1])"
   ]
  },
  {
   "cell_type": "markdown",
   "metadata": {},
   "source": [
    "- Computes the Pearson correlation coefficient between log(mean Reviews grouped by Rating) and (grouped \"Rating\"):"
   ]
  },
  {
   "cell_type": "code",
   "execution_count": 37,
   "metadata": {},
   "outputs": [
    {
     "name": "stdout",
     "output_type": "stream",
     "text": [
      "log(mean 'Reviews' grouped by 'Rating') and 'Rating' \n",
      "Pearson correlation coefficient: 0.7888686449713184\n",
      "p value:  2.445124510019215e-09\n"
     ]
    }
   ],
   "source": [
    "# Computes the Pearson correlation Coefficient between \n",
    "# log(mean Reviews grouped by Rating) and (grouped \"Rating\"):\n",
    "pearson_result = scipy.stats.pearsonr(playstore_group_rating.reshape(-1, ), \n",
    "    playstore_group_mean_by_rating_reviews_log.reshape(-1, ))\n",
    "\n",
    "# Prints the results:\n",
    "print(\"log(mean 'Reviews' grouped by 'Rating') and \\\n",
    "'Rating' \\nPearson correlation coefficient: \" \n",
    "    + str(pearson_result)[1:].split(\",\")[0])\n",
    "print(\"p value: \" + str(pearson_result)[1:].split(\",\")[1][:-1])"
   ]
  },
  {
   "cell_type": "markdown",
   "metadata": {},
   "source": [
    "#### Draws graphs to show these results:"
   ]
  },
  {
   "cell_type": "code",
   "execution_count": 38,
   "metadata": {},
   "outputs": [
    {
     "data": {
      "image/png": "[encoded data removed]",
      "text/plain": [
       "<Figure size 1080x360 with 2 Axes>"
      ]
     },
     "metadata": {
      "needs_background": "light"
     },
     "output_type": "display_data"
    }
   ],
   "source": [
    "# Setups 2 graphs\n",
    "fig, axs = plt.subplots(1, 2, sharex = False, sharey=False)\n",
    "fig.set_figwidth(15)\n",
    "fig.set_figheight(5)\n",
    "\n",
    "##############################################################################\n",
    "# log(mean 'Installs' grouped by 'Rating') and (grouped 'Rating')\n",
    "\n",
    "# Fits the Linear Regression Line between \n",
    "# log(mean 'Installs' grouped by 'Rating') and (grouped 'Rating')\n",
    "model = linear_model.LinearRegression()\n",
    "\n",
    "model.fit(playstore_group_rating.reshape(-1, 1), \n",
    "          playstore_group_mean_by_rating_installs_log.reshape(-1, 1))\n",
    "\n",
    "log_mean_installs_predict = model.predict(playstore_group_rating.reshape(-1, 1))\n",
    "\n",
    "# Draws the scatter and the plot of the regression line\n",
    "axs[0].scatter(playstore_group_rating.reshape(-1, 1), \n",
    "               playstore_group_mean_by_rating_installs_log.reshape(-1, 1), \n",
    "               color = 'black', label = 'Real data')\n",
    "axs[0].plot(playstore_group_rating.reshape(-1, 1), \n",
    "            log_mean_installs_predict.reshape(-1, 1), color = 'red',\n",
    "            label = 'Predicted regression line')\n",
    "\n",
    "# Labels the graph\n",
    "axs[0].legend()\n",
    "axs[0].set_xlabel(\"Rating\")\n",
    "axs[0].set_ylabel(\"log(mean 'Installs' grouped by 'Rating')\")\n",
    "axs[0].set_title(\"GooglePlayStore - Rating and Installs Relationship\")\n",
    "\n",
    "##############################################################################\n",
    "# log(mean 'Installs' grouped by 'Rating') and (grouped 'Rating')\n",
    "\n",
    "# Fits the Linear Regression Line between \n",
    "# log(mean 'Installs' grouped by 'Rating') and (grouped 'Rating')\n",
    "model = linear_model.LinearRegression()\n",
    "model.fit(playstore_group_rating.reshape(-1, 1), \n",
    "          playstore_group_mean_by_rating_reviews_log.reshape(-1, 1))\n",
    "\n",
    "log_mean_reviews_predict = model.predict(playstore_group_rating.reshape(-1, 1))\n",
    "\n",
    "# Draws the scatter and the plot of the regression line\n",
    "axs[1].scatter(playstore_group_rating.reshape(-1, 1), \n",
    "               playstore_group_mean_by_rating_reviews_log.reshape(-1, 1), \n",
    "               color = 'black', label = 'Real data')\n",
    "axs[1].plot(playstore_group_rating.reshape(-1, 1), \n",
    "            log_mean_reviews_predict.reshape(-1, 1), color = 'red', \n",
    "            label = 'Predicted regression line')\n",
    "\n",
    "# Labels the graph\n",
    "axs[1].legend()\n",
    "axs[1].set_xlabel(\"Rating\")\n",
    "axs[1].set_ylabel(\"log(mean 'Reviews' grouped by 'Rating')\")\n",
    "axs[1].set_title(\"GooglePlayStore - Rating and Reviews Relationship\")\n",
    "\n",
    "##############################################################################\n",
    "# Shows the graphs\n",
    "plt.show()"
   ]
  },
  {
   "cell_type": "markdown",
   "metadata": {},
   "source": [
    "#### Result:\n",
    "\n",
    "- \"Rating\" and \"Installs\" have an exponential relationship because when we group \"Installs\" by \"Rating\" (get the mean) then take log of that, there is a strong correlation between that value and \"Rating\" with a high result of Pearson Correlation Coefficient (about 0.7 with p_value near  $6.3^{−7}$ )\n",
    "\n",
    "- \"Rating\" and \"Reviews\" have an exponential relationship because when we group \"Reviews\" by \"Rating\" (get the mean) then take log of that, there is a strong correlation between that value and \"Rating\" with a high result of Pearson Correlation Coefficient (about 0.8 with p_value near  $2.4^{−9}$ )"
   ]
  },
  {
   "cell_type": "markdown",
   "metadata": {},
   "source": [
    "## Question 3:\n",
    "Is the difference between the mean size of applications in Google Play Store dataset and size of applications in Appstore dataset is statistically significant?"
   ]
  },
  {
   "cell_type": "markdown",
   "metadata": {},
   "source": [
    "- Store the \"Size\" column with outliers removed in Google Play Store and Apple Store datasets as DataFrame"
   ]
  },
  {
   "cell_type": "code",
   "execution_count": 39,
   "metadata": {},
   "outputs": [],
   "source": [
    "# Removes outliers in \"Size\" column in the 2 datasets\n",
    "playstore_data_remove_size_outliers = remove_outlier(playstore_data, \"Size\")\n",
    "appstore_data_remove_size_outliers = remove_outlier(appstore_data, \"Size\")\n",
    "\n",
    "# Stores the \"Size\" column in 2 datasets after remove outliers to dataframe\n",
    "playstore_size_without_outliers = playstore_data_remove_size_outliers[[\"Size\"]]\n",
    "appstore_size_without_outliers = appstore_data_remove_size_outliers[[\"Size\"]]"
   ]
  },
  {
   "cell_type": "markdown",
   "metadata": {},
   "source": [
    "- Calculate the difference between the mean size of applications in Google Play Store dataset and size of applications in Appstore dataset"
   ]
  },
  {
   "cell_type": "code",
   "execution_count": 56,
   "metadata": {},
   "outputs": [
    {
     "name": "stdout",
     "output_type": "stream",
     "text": [
      "Observed difference between Applications mean size \n",
      "between Google Play Store and Apple Store: -77.5991860927223 MB.\n"
     ]
    }
   ],
   "source": [
    "# Computes the difference between the mean size of applications in \n",
    "# Google Play Store dataset and size of applications in Appstore dataset\n",
    "mean_size_difference = float(np.mean(playstore_size_without_outliers) \n",
    "                             - np.mean(appstore_size_without_outliers))\n",
    "\n",
    "print(\"Observed difference between Applications mean size \"\n",
    "      + \"\\nbetween Google Play Store and Apple Store: \"\n",
    "      + str(mean_size_difference) + \" MB.\")"
   ]
  },
  {
   "cell_type": "markdown",
   "metadata": {},
   "source": [
    "- Loops 10000 times. Each time randomly shuffles some values between the \"Size\" column in GooglePlayStore and Apple Store dataset then computes the mean of all applications' sizes in each dataset to add to the lists of mean for each dataset."
   ]
  },
  {
   "cell_type": "code",
   "execution_count": 57,
   "metadata": {},
   "outputs": [],
   "source": [
    "# Mixes the size of applications in 2 datasets\n",
    "all_sizes = list(playstore_size_without_outliers.values.reshape(-1)) + \\\n",
    "            list(appstore_size_without_outliers.values.reshape(-1))\n",
    "\n",
    "# Create 2 lists to store the mean for each loop\n",
    "playstore_size_means = []\n",
    "appstore_size_means = []\n",
    "\n",
    "# Loops the random shuffle 10000 times\n",
    "for i in range(10000):\n",
    "    temp = shuffle(all_sizes)\n",
    "    playstore_temp_sizes = temp[0:int(len(temp) / 2)]\n",
    "    appstore_temp_sizes = temp[int(len(temp) / 2):]\n",
    "    playstore_size_means.append(np.mean(playstore_temp_sizes))\n",
    "    appstore_size_means.append(np.mean(appstore_temp_sizes))"
   ]
  },
  {
   "cell_type": "markdown",
   "metadata": {},
   "source": [
    "- Computes the 95% population distribution of the model"
   ]
  },
  {
   "cell_type": "code",
   "execution_count": 58,
   "metadata": {},
   "outputs": [
    {
     "name": "stdout",
     "output_type": "stream",
     "text": [
      "95% population distribution of the modelis from: \n",
      "-2.2352170262331748 MB to 2.251079801415132 MB.\n"
     ]
    }
   ],
   "source": [
    "difference = np.array(playstore_size_means) - np.array(appstore_size_means)\n",
    "# Computes the 95% population distribution of the model\n",
    "confidence_interval = get_confidence_interval(difference)\n",
    "\n",
    "print(\"95% population distribution of the model\"\n",
    "      + \"is from: \\n\" + str(confidence_interval[0])\n",
    "      + \" MB to \" + str(confidence_interval[1]) + \" MB.\")"
   ]
  },
  {
   "cell_type": "markdown",
   "metadata": {},
   "source": [
    "#### Plots a graph to show the result of chance to get the original result"
   ]
  },
  {
   "cell_type": "code",
   "execution_count": 59,
   "metadata": {},
   "outputs": [
    {
     "data": {
      "image/png": "[encoded data removed]",
      "text/plain": [
       "<Figure size 432x288 with 1 Axes>"
      ]
     },
     "metadata": {
      "needs_background": "light"
     },
     "output_type": "display_data"
    }
   ],
   "source": [
    "# Plots a graph to show the result of chance to get the original result \n",
    "plt.hist(difference, bins = 500, density = True, \n",
    "         label = 'Random Difference Size Mean')\n",
    "plt.axvline(confidence_interval[0], color = 'red', \n",
    "               label = 'low limit')\n",
    "plt.axvline(confidence_interval[1], color = 'yellow', \n",
    "               label = 'high limit')\n",
    "plt.axvline(float(mean_size_difference), color = 'green', \n",
    "            label = 'Orignial Difference Size Mean')\n",
    "plt.legend()\n",
    "plt.xlabel('Difference Size Mean')\n",
    "plt.ylabel('Chance to get')\n",
    "plt.title('Distribution of Difference Size '\n",
    "          + 'Mean Between Playstore and AppStore'\n",
    "          + ' \\n10000 time randomly mixing data')\n",
    "plt.show()"
   ]
  },
  {
   "cell_type": "markdown",
   "metadata": {},
   "source": [
    "#### Result:\n",
    "Observed difference between Applications mean size between Google Play Store and Apple Store, about -77.599 MB, is statistically significant."
   ]
  },
  {
   "cell_type": "markdown",
   "metadata": {},
   "source": [
    "## Question 4:\n",
    "What can we conclude about the mean size of applications on Google Play Store and Apple Store based on the dataset?"
   ]
  },
  {
   "cell_type": "markdown",
   "metadata": {},
   "source": [
    "- Loops 10000 times. Each time get 100 random rows in each dataset to compute the mean size of that 100 rows then adds that mean value to the list of means for each dataset."
   ]
  },
  {
   "cell_type": "code",
   "execution_count": 60,
   "metadata": {},
   "outputs": [],
   "source": [
    "playstore_subdata_size_means = []\n",
    "appstore_subdata_size_means = []\n",
    "\n",
    "for i in range (10000):\n",
    "    playstore_subdata_size_mean = float(\n",
    "        shuffle(playstore_data_remove_size_outliers[[\"Size\"]])[\n",
    "            0:100].mean())\n",
    "    \n",
    "    appstore_subdata_size_mean = float(\n",
    "        shuffle(appstore_data_remove_size_outliers[[\"Size\"]])[\n",
    "            0:100].mean())\n",
    "    \n",
    "    playstore_subdata_size_means.append(playstore_subdata_size_mean)\n",
    "    appstore_subdata_size_means.append(appstore_subdata_size_mean)"
   ]
  },
  {
   "cell_type": "markdown",
   "metadata": {},
   "source": [
    "#### Test to ensure the length of both lists of mean have lengths 10000 for further computations"
   ]
  },
  {
   "cell_type": "code",
   "execution_count": 61,
   "metadata": {},
   "outputs": [],
   "source": [
    "assert(len(playstore_subdata_size_means) == 10000)\n",
    "assert(len(appstore_subdata_size_means) == 10000)"
   ]
  },
  {
   "cell_type": "markdown",
   "metadata": {},
   "source": [
    "- Computes the confidence interval for mean applications size on 2 datasets"
   ]
  },
  {
   "cell_type": "code",
   "execution_count": 63,
   "metadata": {
    "scrolled": true
   },
   "outputs": [
    {
     "name": "stdout",
     "output_type": "stream",
     "text": [
      "Google Play Store Applications mean size with 95% confidence: \n",
      "from 17.461566885638582 MB to 25.089413114361413 MB.\n",
      "\n",
      "Apple Store Applications mean size with 95% confidence: \n",
      "from 83.9726300455412 MB to 113.63487396947346 MB.\n"
     ]
    }
   ],
   "source": [
    "# Computes the confidence interval for mean applications\n",
    "# sizes on Google Play Store\n",
    "playstore_confidence_interval = get_confidence_interval(\n",
    "    playstore_subdata_size_means)\n",
    "\n",
    "# Computes the confidence interval for mean applications\n",
    "# sizes on Apple Store Store\n",
    "appstore_confidence_interval = get_confidence_interval(\n",
    "    appstore_subdata_size_means)\n",
    "\n",
    "# prints the results\n",
    "print(\"Google Play Store Applications mean size \"\n",
    "      + \"with 95% confidence: \\nfrom \"\n",
    "      + str(playstore_confidence_interval[0]) + \" MB to \"\n",
    "      + str(playstore_confidence_interval[1]) + \" MB.\")\n",
    "print()\n",
    "print(\"Apple Store Applications mean size \"\n",
    "      + \"with 95% confidence: \\nfrom \"\n",
    "      + str(appstore_confidence_interval[0]) + \" MB to \"\n",
    "      + str(appstore_confidence_interval[1]) + \" MB.\")"
   ]
  },
  {
   "cell_type": "markdown",
   "metadata": {},
   "source": [
    "#### Draws graphs to show the results computed above (95% confidence interval is from the low limit line to high limit line)"
   ]
  },
  {
   "cell_type": "code",
   "execution_count": 64,
   "metadata": {},
   "outputs": [
    {
     "data": {
      "image/png": "[encoded data removed]",
      "text/plain": [
       "<Figure size 1440x360 with 2 Axes>"
      ]
     },
     "metadata": {
      "needs_background": "light"
     },
     "output_type": "display_data"
    }
   ],
   "source": [
    "# Setups 2 graphs\n",
    "fig, axs = plt.subplots(1, 2)\n",
    "fig.set_figwidth(20)\n",
    "fig.set_figheight(5)\n",
    "\n",
    "# plots graphs to show the result with the confidence interval on Google Play Store\n",
    "axs[0].hist(playstore_subdata_size_means, bins= 500, \n",
    "            density = True)\n",
    "axs[0].axvline(playstore_confidence_interval[0], color = 'red', \n",
    "               label = 'low limit')\n",
    "axs[0].axvline(playstore_confidence_interval[1], color = 'yellow', \n",
    "               label = 'high limit')\n",
    "axs[0].set_xlabel('Mean size')\n",
    "axs[0].set_ylabel('Probability density')\n",
    "axs[0].set_title('Distribution of Mean size of Applications '\n",
    "                 + 'on \\nGoogle Play Store'\n",
    "                 + '10000 time randomly mixing')\n",
    "axs[0].legend()\n",
    "\n",
    "# plots graphs to show the result with the confidence interval on AppleStore\n",
    "axs[1].hist(appstore_subdata_size_means, bins= 500, \n",
    "            density = True, color = 'orange')\n",
    "axs[1].axvline(appstore_confidence_interval[0], color = 'red', \n",
    "               label = 'low limit')\n",
    "axs[1].axvline(appstore_confidence_interval[1], color = 'yellow', \n",
    "               label = 'high limit')\n",
    "axs[1].set_xlabel('Mean size')\n",
    "axs[1].set_ylabel('Probability density')\n",
    "axs[1].set_title('Distribution of Mean size of Applications on \\nAppStore'\n",
    "                 + '10000 time randomly mixing')\n",
    "axs[1].legend()\n",
    "\n",
    "plt.show()"
   ]
  },
  {
   "cell_type": "markdown",
   "metadata": {},
   "source": [
    "#### Result:\n",
    "\n",
    "- Google Play Store Applications mean size with 95% confidence: from about 17.4 MB to about 25.0 MB.\n",
    "- Apple Store Applications mean size with 95% confidence: from about 84.0 MB to about 113.9 MB."
   ]
  },
  {
   "cell_type": "markdown",
   "metadata": {},
   "source": [
    "#### Visualize the distribution of Size"
   ]
  },
  {
   "cell_type": "markdown",
   "metadata": {},
   "source": [
    "- Plots the graph to show the distribution of size in the 2 datasets"
   ]
  },
  {
   "cell_type": "code",
   "execution_count": 70,
   "metadata": {},
   "outputs": [
    {
     "data": {
      "image/png": "[encoded data removed]",
      "text/plain": [
       "<Figure size 1440x288 with 3 Axes>"
      ]
     },
     "metadata": {
      "needs_background": "light"
     },
     "output_type": "display_data"
    }
   ],
   "source": [
    "fig, axs = plt.subplots(1, 3, sharex = True, sharey=True)\n",
    "fig.set_figwidth(20)\n",
    "\n",
    "# Draws the graph of Google Play Store's Size - Relative Frequency\n",
    "axs[0].hist(playstore_size_without_outliers.values, \n",
    "            bins= 50, density = True)\n",
    "axs[0].axvline(playstore_confidence_interval[0], color = 'red', \n",
    "               label = 'mean size low limit')\n",
    "axs[0].axvline(playstore_confidence_interval[1], color = 'yellow', \n",
    "               label = 'mean size high limit')\n",
    "axs[0].legend()\n",
    "axs[0].set_xlabel('Size (MB)')\n",
    "axs[0].set_ylabel('Relative Frequency')\n",
    "axs[0].set_title('Google Play Store (Outliers removed)')\n",
    "\n",
    "# Draws the graph of Google Play Store and Apple Store's \n",
    "# Size - Relative Frequency\n",
    "axs[1].hist(playstore_size_without_outliers.values, \n",
    "            bins= 50, density = True)\n",
    "axs[1].hist(appstore_size_without_outliers.values, \n",
    "            bins = 50, density = True, \n",
    "            color = 'orange')\n",
    "axs[1].axvline(playstore_confidence_interval[0], color = 'red', \n",
    "               label = 'PlayStore mean size low limit')\n",
    "axs[1].axvline(playstore_confidence_interval[1], color = 'yellow', \n",
    "               label = 'PlayStore mean size high limit')\n",
    "axs[1].axvline(appstore_confidence_interval[0], color = 'black', \n",
    "               label = 'AppStore mean size low limit')\n",
    "axs[1].axvline(appstore_confidence_interval[1], color = 'green', \n",
    "               label = 'AppStore mean size high limit')\n",
    "axs[1].legend()\n",
    "axs[1].set_xlabel('Size (MB)')\n",
    "axs[1].set_ylabel('Relative Frequency')\n",
    "axs[1].set_title('Google Play Store and Apple Store (Outliers removed)')\n",
    "\n",
    "# Draws the graph of Apple Store's Size - Relative Frequency\n",
    "axs[2].hist(appstore_size_without_outliers.values, \n",
    "            bins = 50, density = True, \n",
    "            color = 'orange')\n",
    "axs[2].axvline(appstore_confidence_interval[0], color = 'black', \n",
    "               label = 'mean size low limit')\n",
    "axs[2].axvline(appstore_confidence_interval[1], color = 'green', \n",
    "               label = 'mean size high limit')\n",
    "axs[2].legend()\n",
    "axs[2].set_xlabel('Size (MB)')\n",
    "axs[2].set_ylabel('Relative Frequency')\n",
    "axs[2].set_title('Apple Store (Outliers removed)')\n",
    "\n",
    "plt.show()"
   ]
  },
  {
   "cell_type": "markdown",
   "metadata": {},
   "source": [
    "# Testing:"
   ]
  },
  {
   "cell_type": "markdown",
   "metadata": {},
   "source": [
    "## Data pre-processing Testing:"
   ]
  },
  {
   "cell_type": "markdown",
   "metadata": {},
   "source": [
    "[Test rows and NaN values GooglePlayStore](#Test-rows-and-NaN-values-GooglePlayStore)"
   ]
  },
  {
   "cell_type": "markdown",
   "metadata": {},
   "source": [
    "[Test numerical values GooglePlayStore](#Test-numerical-values-GooglePlayStore)"
   ]
  },
  {
   "cell_type": "markdown",
   "metadata": {},
   "source": [
    "[Test numerical values Apple Store](#Test-numerical-values-AppStore)"
   ]
  },
  {
   "cell_type": "markdown",
   "metadata": {},
   "source": [
    "## Question 1 Testing:"
   ]
  },
  {
   "cell_type": "markdown",
   "metadata": {},
   "source": [
    "### Correlation between \"Installs\" and another factor:"
   ]
  },
  {
   "cell_type": "markdown",
   "metadata": {},
   "source": [
    "A [test](#Test-continuity-of-\"Price\":) to show that \"Price\" is continuous."
   ]
  },
  {
   "cell_type": "markdown",
   "metadata": {},
   "source": [
    "A [test](#Test-continuity-of-\"Reviews\":) to show that \"Reviews\" is continuous."
   ]
  },
  {
   "cell_type": "markdown",
   "metadata": {},
   "source": [
    "A [test](#Test-continuity-of-\"Size\":) to show \"Size\" is continuous."
   ]
  },
  {
   "cell_type": "markdown",
   "metadata": {},
   "source": [
    "A [test](#Test-continuity-of-\"Rating\":) to show \"Rating\" is categorical with normal distribution."
   ]
  },
  {
   "cell_type": "markdown",
   "metadata": {},
   "source": [
    "A [test](#Test-continuity-of-\"Installs\":) to show \"Installs\" is categorical."
   ]
  },
  {
   "cell_type": "markdown",
   "metadata": {},
   "source": [
    "All the [graphs](#Draws-graphs-to-show-the-result-above:) shows the linear regression lines have the slopes that similar to the results from Spearman Correlation Coefficients calculated above and the scatterplots represent the real data from the dataset also shows that the calculation is correct."
   ]
  },
  {
   "cell_type": "markdown",
   "metadata": {},
   "source": [
    "### Correlation between other pair of factors:"
   ]
  },
  {
   "cell_type": "markdown",
   "metadata": {},
   "source": [
    "All the [graphs](#Plots-the-graphs-to-show-the-correlations-above:) shows the linear regression lines have the slopes that similar to the results from Pearson Correlation Coefficients calculated above and the scatterplots represent the real data from the dataset also shows that the calculation is correct."
   ]
  },
  {
   "cell_type": "markdown",
   "metadata": {},
   "source": [
    "## Question 2 Testing:"
   ]
  },
  {
   "cell_type": "markdown",
   "metadata": {},
   "source": [
    "### Price and Installs' relationship:"
   ]
  },
  {
   "cell_type": "markdown",
   "metadata": {},
   "source": [
    "The [graph](#Draws-the-graph-to-show-the-relationship-between-Reviews-and-Installs) shows the linear regression lines have the slopes that similar to the results from Pearson Correlation Coefficients calculated above. \n",
    "The scatterplot represents real data from the dataset and the regression line look similar shows that the calculation is correct."
   ]
  },
  {
   "cell_type": "markdown",
   "metadata": {},
   "source": [
    "### Rating and Installs' relationship and Rating and Reviews' relationship:"
   ]
  },
  {
   "cell_type": "markdown",
   "metadata": {},
   "source": [
    "The [graph](#Draws-graphs-to-show-these-results:) shows the linear regression lines have the slopes that similar to the results from Pearson Correlation Coefficients calculated above. The scatterplot represents real data from the dataset and the regression line look similar shows that the calculation is correct."
   ]
  },
  {
   "cell_type": "markdown",
   "metadata": {},
   "source": [
    "## Question 3 Testing:"
   ]
  },
  {
   "cell_type": "markdown",
   "metadata": {},
   "source": [
    "[Test](#Test-remove_outlier:) for \"remove_outlier\" function"
   ]
  },
  {
   "cell_type": "markdown",
   "metadata": {},
   "source": [
    "[Test](#Test-get_confidence_interval) for \"get_confidence_interval\" function"
   ]
  },
  {
   "cell_type": "markdown",
   "metadata": {},
   "source": [
    "## Question 4 Testing:"
   ]
  },
  {
   "cell_type": "markdown",
   "metadata": {},
   "source": [
    "[Test](#Test-to-ensure-the-length-of-both-lists-of-mean-have-lengths-10000-for-further-computations) for lengths of both lists of mean has length 10000 for further computations (Confidence interval)."
   ]
  }
 ],
 "metadata": {
  "kernelspec": {
   "display_name": "Python 3",
   "language": "python",
   "name": "python3"
  },
  "language_info": {
   "codemirror_mode": {
    "name": "ipython",
    "version": 3
   },
   "file_extension": ".py",
   "mimetype": "text/x-python",
   "name": "python",
   "nbconvert_exporter": "python",
   "pygments_lexer": "ipython3",
   "version": "3.7.1"
  }
 },
 "nbformat": 4,
 "nbformat_minor": 2
}
